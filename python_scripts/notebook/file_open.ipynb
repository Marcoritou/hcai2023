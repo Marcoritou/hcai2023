{
 "cells": [
  {
   "cell_type": "markdown",
   "id": "01043692-5b86-4535-99ee-66659ce40555",
   "metadata": {},
   "source": [
    "# Trabajando con datos en texto simple."
   ]
  },
  {
   "cell_type": "code",
   "execution_count": 17,
   "id": "f53d8448-e491-4bf3-ba1f-48dfba94942f",
   "metadata": {},
   "outputs": [],
   "source": [
    "import numpy\n",
    "a = numpy.random.normal(size=10**5)"
   ]
  },
  {
   "cell_type": "code",
   "execution_count": 18,
   "id": "855423d9-dfea-4357-ab1f-95717204c303",
   "metadata": {},
   "outputs": [],
   "source": [
    "file = open(\"datos.txt\", \"w\")\n",
    "for item in a:\n",
    "    file.write(\"{:.6f}\\n\".format(item))\n",
    "file.close()"
   ]
  },
  {
   "cell_type": "code",
   "execution_count": 19,
   "id": "2a2a9677-54bc-422b-a6ea-3c5b7d4461dc",
   "metadata": {},
   "outputs": [],
   "source": [
    "with open(\"data.txt\", \"w\") as f:\n",
    "    for item in a:\n",
    "        f.write(\"{:.6f}\\n\".format(item))"
   ]
  },
  {
   "cell_type": "code",
   "execution_count": null,
   "id": "bb75c46c-3405-45fb-a223-15f664f7c69d",
   "metadata": {},
   "outputs": [],
   "source": []
  }
 ],
 "metadata": {
  "kernelspec": {
   "display_name": "Python 3 (ipykernel)",
   "language": "python",
   "name": "python3"
  },
  "language_info": {
   "codemirror_mode": {
    "name": "ipython",
    "version": 3
   },
   "file_extension": ".py",
   "mimetype": "text/x-python",
   "name": "python",
   "nbconvert_exporter": "python",
   "pygments_lexer": "ipython3",
   "version": "3.9.12"
  }
 },
 "nbformat": 4,
 "nbformat_minor": 5
}
