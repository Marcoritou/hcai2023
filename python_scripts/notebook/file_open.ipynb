{
 "cells": [
  {
   "cell_type": "markdown",
   "id": "01043692-5b86-4535-99ee-66659ce40555",
   "metadata": {},
   "source": [
    "#### Trabajando con datos en texto simple."
   ]
  },
  {
   "cell_type": "code",
   "execution_count": 4,
   "id": "f53d8448-e491-4bf3-ba1f-48dfba94942f",
   "metadata": {},
   "outputs": [],
   "source": [
    "import numpy\n",
    "a = numpy.random.normal(size=10**2)"
   ]
  },
  {
   "cell_type": "code",
   "execution_count": 5,
   "id": "855423d9-dfea-4357-ab1f-95717204c303",
   "metadata": {},
   "outputs": [],
   "source": [
    "file = open(\"datos.txt\", \"w\")\n",
    "for item in a:\n",
    "    file.write(\"{:.6f}\\n\".format(item))\n",
    "file.close()"
   ]
  },
  {
   "cell_type": "code",
   "execution_count": 6,
   "id": "2a2a9677-54bc-422b-a6ea-3c5b7d4461dc",
   "metadata": {},
   "outputs": [],
   "source": [
    "with open(\"data.txt\", \"w\") as f:\n",
    "    for item in a:\n",
    "        f.write(\"{:.6f}\\n\".format(item))"
   ]
  },
  {
   "cell_type": "code",
   "execution_count": 7,
   "id": "bb75c46c-3405-45fb-a223-15f664f7c69d",
   "metadata": {},
   "outputs": [
    {
     "name": "stdout",
     "output_type": "stream",
     "text": [
      "-1.475569\n",
      "\n"
     ]
    }
   ],
   "source": [
    "with open(\"data.txt\", \"r\") as f:\n",
    "    print(f.readline(10))"
   ]
  },
  {
   "cell_type": "code",
   "execution_count": 39,
   "id": "5b08328f",
   "metadata": {},
   "outputs": [
    {
     "data": {
      "text/plain": [
       "['elemento1', 'elemento2', 'elemento3']"
      ]
     },
     "execution_count": 39,
     "metadata": {},
     "output_type": "execute_result"
    }
   ],
   "source": [
    "lista_fake = 'elemento1 elemento2 elemento3'\n",
    "lista_fake.split(' ')"
   ]
  },
  {
   "cell_type": "code",
   "execution_count": 3,
   "id": "04778f57",
   "metadata": {},
   "outputs": [
    {
     "data": {
      "text/plain": [
       "[['tipo', 'nivel', 'exp'],\n",
       " ['duende1', '12', '0.2'],\n",
       " ['elfo1', '15', '121'],\n",
       " ['humano1', '23', '1245']]"
      ]
     },
     "execution_count": 3,
     "metadata": {},
     "output_type": "execute_result"
    }
   ],
   "source": [
    "lista_fake = 'tipo nivel exp\\nduende1 12 0.2\\nelfo1 15 121\\nhumano1 23 1245'\n",
    "lista_fake_fase1 = lista_fake.split('\\n')\n",
    "lista_real = []\n",
    "for stringer in lista_fake_fase1:\n",
    "    new_stringer = stringer.split(' ')\n",
    "    lista_real.append(new_stringer)\n",
    "lista_real"
   ]
  },
  {
   "cell_type": "code",
   "execution_count": 22,
   "id": "db8da14c",
   "metadata": {},
   "outputs": [],
   "source": [
    "import pandas as pd\n",
    "\n",
    "dataframe = pd.read_csv('datos.txt', sep=' ', index_col=0, names=None, header=None)"
   ]
  },
  {
   "cell_type": "code",
   "execution_count": 23,
   "id": "be310ff8",
   "metadata": {},
   "outputs": [
    {
     "data": {
      "text/html": [
       "<div>\n",
       "<style scoped>\n",
       "    .dataframe tbody tr th:only-of-type {\n",
       "        vertical-align: middle;\n",
       "    }\n",
       "\n",
       "    .dataframe tbody tr th {\n",
       "        vertical-align: top;\n",
       "    }\n",
       "\n",
       "    .dataframe thead th {\n",
       "        text-align: right;\n",
       "    }\n",
       "</style>\n",
       "<table border=\"1\" class=\"dataframe\">\n",
       "  <thead>\n",
       "    <tr style=\"text-align: right;\">\n",
       "      <th></th>\n",
       "      <th>1</th>\n",
       "    </tr>\n",
       "    <tr>\n",
       "      <th>0</th>\n",
       "      <th></th>\n",
       "    </tr>\n",
       "  </thead>\n",
       "  <tbody>\n",
       "    <tr>\n",
       "      <th>0</th>\n",
       "      <td>-0.750514</td>\n",
       "    </tr>\n",
       "    <tr>\n",
       "      <th>1</th>\n",
       "      <td>1.513391</td>\n",
       "    </tr>\n",
       "    <tr>\n",
       "      <th>2</th>\n",
       "      <td>-0.257402</td>\n",
       "    </tr>\n",
       "    <tr>\n",
       "      <th>3</th>\n",
       "      <td>2.423730</td>\n",
       "    </tr>\n",
       "    <tr>\n",
       "      <th>4</th>\n",
       "      <td>-0.937215</td>\n",
       "    </tr>\n",
       "    <tr>\n",
       "      <th>...</th>\n",
       "      <td>...</td>\n",
       "    </tr>\n",
       "    <tr>\n",
       "      <th>1499995</th>\n",
       "      <td>-0.307417</td>\n",
       "    </tr>\n",
       "    <tr>\n",
       "      <th>1499996</th>\n",
       "      <td>-0.432064</td>\n",
       "    </tr>\n",
       "    <tr>\n",
       "      <th>1499997</th>\n",
       "      <td>0.629598</td>\n",
       "    </tr>\n",
       "    <tr>\n",
       "      <th>1499998</th>\n",
       "      <td>0.037971</td>\n",
       "    </tr>\n",
       "    <tr>\n",
       "      <th>1499999</th>\n",
       "      <td>0.256897</td>\n",
       "    </tr>\n",
       "  </tbody>\n",
       "</table>\n",
       "<p>1500000 rows × 1 columns</p>\n",
       "</div>"
      ],
      "text/plain": [
       "                1\n",
       "0                \n",
       "0       -0.750514\n",
       "1        1.513391\n",
       "2       -0.257402\n",
       "3        2.423730\n",
       "4       -0.937215\n",
       "...           ...\n",
       "1499995 -0.307417\n",
       "1499996 -0.432064\n",
       "1499997  0.629598\n",
       "1499998  0.037971\n",
       "1499999  0.256897\n",
       "\n",
       "[1500000 rows x 1 columns]"
      ]
     },
     "execution_count": 23,
     "metadata": {},
     "output_type": "execute_result"
    }
   ],
   "source": [
    "dataframe"
   ]
  },
  {
   "cell_type": "code",
   "execution_count": 15,
   "id": "d29435b2",
   "metadata": {},
   "outputs": [],
   "source": []
  }
 ],
 "metadata": {
  "kernelspec": {
   "display_name": "Python 3 (ipykernel)",
   "language": "python",
   "name": "python3"
  },
  "language_info": {
   "codemirror_mode": {
    "name": "ipython",
    "version": 3
   },
   "file_extension": ".py",
   "mimetype": "text/x-python",
   "name": "python",
   "nbconvert_exporter": "python",
   "pygments_lexer": "ipython3",
   "version": "3.9.12"
  }
 },
 "nbformat": 4,
 "nbformat_minor": 5
}
